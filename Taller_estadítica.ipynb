{
  "nbformat": 4,
  "nbformat_minor": 0,
  "metadata": {
    "colab": {
      "name": "Taller_estadítica.ipynb",
      "provenance": [],
      "include_colab_link": true
    },
    "kernelspec": {
      "name": "python3",
      "display_name": "Python 3"
    },
    "language_info": {
      "name": "python"
    }
  },
  "cells": [
    {
      "cell_type": "markdown",
      "metadata": {
        "id": "view-in-github",
        "colab_type": "text"
      },
      "source": [
        "<a href=\"https://colab.research.google.com/github/aleja14/Python-stadisctic/blob/main/Taller_estad%C3%ADtica.ipynb\" target=\"_parent\"><img src=\"https://colab.research.google.com/assets/colab-badge.svg\" alt=\"Open In Colab\"/></a>"
      ]
    },
    {
      "cell_type": "code",
      "execution_count": null,
      "metadata": {
        "id": "qmZ65JajX3GD"
      },
      "outputs": [],
      "source": [
        "# Importacion de Librerias\n",
        "import os # Para la lectura de nuestos archivos desde el computador\n",
        "import pandas as pd # Manejo de data estructurada (Dataframe)\n",
        "import matplotlib.pyplot as plt # Graficas\n",
        "import seaborn as sns\n",
        "import numpy as np"
      ]
    },
    {
      "cell_type": "code",
      "source": [
        "# Importar los datos desde el repositorio\n",
        "dataset = pd.read_csv(\"https://raw.githubusercontent.com/aleja14/Python-stadisctic/main/Libro2.csv\", \n",
        "                      sep = \",\")"
      ],
      "metadata": {
        "id": "c-nKZsoyZ7rT"
      },
      "execution_count": null,
      "outputs": []
    },
    {
      "cell_type": "code",
      "source": [
        "dataset.head(21)"
      ],
      "metadata": {
        "colab": {
          "base_uri": "https://localhost:8080/",
          "height": 707
        },
        "id": "7TsRA1LSaHqD",
        "outputId": "f03e8f15-775e-4103-bab9-64d19f6a5517"
      },
      "execution_count": null,
      "outputs": [
        {
          "output_type": "execute_result",
          "data": {
            "text/plain": [
              "     x    y\n",
              "0    1  126\n",
              "1    2  140\n",
              "2    3  140\n",
              "3    4  145\n",
              "4    5  149\n",
              "5    6  150\n",
              "6    7  157\n",
              "7    8  162\n",
              "8    9  166\n",
              "9   10  177\n",
              "10  11  177\n",
              "11  12  175\n",
              "12  13  183\n",
              "13  14  188\n",
              "14  15  189\n",
              "15  16  212\n",
              "16  17  230\n",
              "17  18   72\n",
              "18  19  250\n",
              "19  20  333\n",
              "20  21  300"
            ],
            "text/html": [
              "\n",
              "  <div id=\"df-bbbe4ef8-31b1-4409-8ccd-abeae0ae8aa6\">\n",
              "    <div class=\"colab-df-container\">\n",
              "      <div>\n",
              "<style scoped>\n",
              "    .dataframe tbody tr th:only-of-type {\n",
              "        vertical-align: middle;\n",
              "    }\n",
              "\n",
              "    .dataframe tbody tr th {\n",
              "        vertical-align: top;\n",
              "    }\n",
              "\n",
              "    .dataframe thead th {\n",
              "        text-align: right;\n",
              "    }\n",
              "</style>\n",
              "<table border=\"1\" class=\"dataframe\">\n",
              "  <thead>\n",
              "    <tr style=\"text-align: right;\">\n",
              "      <th></th>\n",
              "      <th>x</th>\n",
              "      <th>y</th>\n",
              "    </tr>\n",
              "  </thead>\n",
              "  <tbody>\n",
              "    <tr>\n",
              "      <th>0</th>\n",
              "      <td>1</td>\n",
              "      <td>126</td>\n",
              "    </tr>\n",
              "    <tr>\n",
              "      <th>1</th>\n",
              "      <td>2</td>\n",
              "      <td>140</td>\n",
              "    </tr>\n",
              "    <tr>\n",
              "      <th>2</th>\n",
              "      <td>3</td>\n",
              "      <td>140</td>\n",
              "    </tr>\n",
              "    <tr>\n",
              "      <th>3</th>\n",
              "      <td>4</td>\n",
              "      <td>145</td>\n",
              "    </tr>\n",
              "    <tr>\n",
              "      <th>4</th>\n",
              "      <td>5</td>\n",
              "      <td>149</td>\n",
              "    </tr>\n",
              "    <tr>\n",
              "      <th>5</th>\n",
              "      <td>6</td>\n",
              "      <td>150</td>\n",
              "    </tr>\n",
              "    <tr>\n",
              "      <th>6</th>\n",
              "      <td>7</td>\n",
              "      <td>157</td>\n",
              "    </tr>\n",
              "    <tr>\n",
              "      <th>7</th>\n",
              "      <td>8</td>\n",
              "      <td>162</td>\n",
              "    </tr>\n",
              "    <tr>\n",
              "      <th>8</th>\n",
              "      <td>9</td>\n",
              "      <td>166</td>\n",
              "    </tr>\n",
              "    <tr>\n",
              "      <th>9</th>\n",
              "      <td>10</td>\n",
              "      <td>177</td>\n",
              "    </tr>\n",
              "    <tr>\n",
              "      <th>10</th>\n",
              "      <td>11</td>\n",
              "      <td>177</td>\n",
              "    </tr>\n",
              "    <tr>\n",
              "      <th>11</th>\n",
              "      <td>12</td>\n",
              "      <td>175</td>\n",
              "    </tr>\n",
              "    <tr>\n",
              "      <th>12</th>\n",
              "      <td>13</td>\n",
              "      <td>183</td>\n",
              "    </tr>\n",
              "    <tr>\n",
              "      <th>13</th>\n",
              "      <td>14</td>\n",
              "      <td>188</td>\n",
              "    </tr>\n",
              "    <tr>\n",
              "      <th>14</th>\n",
              "      <td>15</td>\n",
              "      <td>189</td>\n",
              "    </tr>\n",
              "    <tr>\n",
              "      <th>15</th>\n",
              "      <td>16</td>\n",
              "      <td>212</td>\n",
              "    </tr>\n",
              "    <tr>\n",
              "      <th>16</th>\n",
              "      <td>17</td>\n",
              "      <td>230</td>\n",
              "    </tr>\n",
              "    <tr>\n",
              "      <th>17</th>\n",
              "      <td>18</td>\n",
              "      <td>72</td>\n",
              "    </tr>\n",
              "    <tr>\n",
              "      <th>18</th>\n",
              "      <td>19</td>\n",
              "      <td>250</td>\n",
              "    </tr>\n",
              "    <tr>\n",
              "      <th>19</th>\n",
              "      <td>20</td>\n",
              "      <td>333</td>\n",
              "    </tr>\n",
              "    <tr>\n",
              "      <th>20</th>\n",
              "      <td>21</td>\n",
              "      <td>300</td>\n",
              "    </tr>\n",
              "  </tbody>\n",
              "</table>\n",
              "</div>\n",
              "      <button class=\"colab-df-convert\" onclick=\"convertToInteractive('df-bbbe4ef8-31b1-4409-8ccd-abeae0ae8aa6')\"\n",
              "              title=\"Convert this dataframe to an interactive table.\"\n",
              "              style=\"display:none;\">\n",
              "        \n",
              "  <svg xmlns=\"http://www.w3.org/2000/svg\" height=\"24px\"viewBox=\"0 0 24 24\"\n",
              "       width=\"24px\">\n",
              "    <path d=\"M0 0h24v24H0V0z\" fill=\"none\"/>\n",
              "    <path d=\"M18.56 5.44l.94 2.06.94-2.06 2.06-.94-2.06-.94-.94-2.06-.94 2.06-2.06.94zm-11 1L8.5 8.5l.94-2.06 2.06-.94-2.06-.94L8.5 2.5l-.94 2.06-2.06.94zm10 10l.94 2.06.94-2.06 2.06-.94-2.06-.94-.94-2.06-.94 2.06-2.06.94z\"/><path d=\"M17.41 7.96l-1.37-1.37c-.4-.4-.92-.59-1.43-.59-.52 0-1.04.2-1.43.59L10.3 9.45l-7.72 7.72c-.78.78-.78 2.05 0 2.83L4 21.41c.39.39.9.59 1.41.59.51 0 1.02-.2 1.41-.59l7.78-7.78 2.81-2.81c.8-.78.8-2.07 0-2.86zM5.41 20L4 18.59l7.72-7.72 1.47 1.35L5.41 20z\"/>\n",
              "  </svg>\n",
              "      </button>\n",
              "      \n",
              "  <style>\n",
              "    .colab-df-container {\n",
              "      display:flex;\n",
              "      flex-wrap:wrap;\n",
              "      gap: 12px;\n",
              "    }\n",
              "\n",
              "    .colab-df-convert {\n",
              "      background-color: #E8F0FE;\n",
              "      border: none;\n",
              "      border-radius: 50%;\n",
              "      cursor: pointer;\n",
              "      display: none;\n",
              "      fill: #1967D2;\n",
              "      height: 32px;\n",
              "      padding: 0 0 0 0;\n",
              "      width: 32px;\n",
              "    }\n",
              "\n",
              "    .colab-df-convert:hover {\n",
              "      background-color: #E2EBFA;\n",
              "      box-shadow: 0px 1px 2px rgba(60, 64, 67, 0.3), 0px 1px 3px 1px rgba(60, 64, 67, 0.15);\n",
              "      fill: #174EA6;\n",
              "    }\n",
              "\n",
              "    [theme=dark] .colab-df-convert {\n",
              "      background-color: #3B4455;\n",
              "      fill: #D2E3FC;\n",
              "    }\n",
              "\n",
              "    [theme=dark] .colab-df-convert:hover {\n",
              "      background-color: #434B5C;\n",
              "      box-shadow: 0px 1px 3px 1px rgba(0, 0, 0, 0.15);\n",
              "      filter: drop-shadow(0px 1px 2px rgba(0, 0, 0, 0.3));\n",
              "      fill: #FFFFFF;\n",
              "    }\n",
              "  </style>\n",
              "\n",
              "      <script>\n",
              "        const buttonEl =\n",
              "          document.querySelector('#df-bbbe4ef8-31b1-4409-8ccd-abeae0ae8aa6 button.colab-df-convert');\n",
              "        buttonEl.style.display =\n",
              "          google.colab.kernel.accessAllowed ? 'block' : 'none';\n",
              "\n",
              "        async function convertToInteractive(key) {\n",
              "          const element = document.querySelector('#df-bbbe4ef8-31b1-4409-8ccd-abeae0ae8aa6');\n",
              "          const dataTable =\n",
              "            await google.colab.kernel.invokeFunction('convertToInteractive',\n",
              "                                                     [key], {});\n",
              "          if (!dataTable) return;\n",
              "\n",
              "          const docLinkHtml = 'Like what you see? Visit the ' +\n",
              "            '<a target=\"_blank\" href=https://colab.research.google.com/notebooks/data_table.ipynb>data table notebook</a>'\n",
              "            + ' to learn more about interactive tables.';\n",
              "          element.innerHTML = '';\n",
              "          dataTable['output_type'] = 'display_data';\n",
              "          await google.colab.output.renderOutput(dataTable, element);\n",
              "          const docLink = document.createElement('div');\n",
              "          docLink.innerHTML = docLinkHtml;\n",
              "          element.appendChild(docLink);\n",
              "        }\n",
              "      </script>\n",
              "    </div>\n",
              "  </div>\n",
              "  "
            ]
          },
          "metadata": {},
          "execution_count": 133
        }
      ]
    },
    {
      "cell_type": "markdown",
      "source": [
        "#4."
      ],
      "metadata": {
        "id": "nRgCuEI51rB2"
      }
    },
    {
      "cell_type": "code",
      "source": [
        "#4.Tendencia: De acuerdo a los resultados de cada participante se visualiza en la grafica que, desde el participante 1 hasta el 15 (se encuentra en el rango de 129 a 189)\n",
        "#lo que indica que la tendencia es linea (aumenta o disminuye a un ritmo constante) a través del puntaje, de allí en adelante tiende a tener por inferencia una leve subida pero de inmeditato cae hasta puntaje 75 \n",
        "#(lo que se deduce que la tendencia disminuye )en el participante #18\n",
        "#Para el final se deduce que la tendencia cambia debido al puntaje obtenido por los últimos participantes, y aumenta.\n",
        "%matplotlib inline\n",
        "#gráfica\n",
        "fig, ax = plt.subplots(figsize = (12,7))\n",
        "ax.plot(dataset['y'], lw = 2, color = (25/755,25/755,112/755))\n",
        "#cuadricula\n",
        "ax.grid(linestyle = '--', alpha=0.5)\n",
        "\n",
        "#quitar spines o bordes\n",
        "#ax.spines['top'].set_alpha(0.0)\n",
        "#ax.spines['right'].set_alpha(0.1)\n",
        "plt.title('Tendencia', fontdict={'fontsize':16})\n",
        "ax.set_ylabel(\"Puntaje\",fontdict={'fontsize':16})\n",
        "ax.set_xlabel(\"Participantes\",fontdict={'fontsize':16})\n",
        "plt.show()"
      ],
      "metadata": {
        "colab": {
          "base_uri": "https://localhost:8080/",
          "height": 465
        },
        "id": "B-XXlk7Ab-r4",
        "outputId": "9cc51f1d-36e6-4f99-cad0-e73a85773a56"
      },
      "execution_count": null,
      "outputs": [
        {
          "output_type": "display_data",
          "data": {
            "text/plain": [
              "<Figure size 864x504 with 1 Axes>"
            ],
            "image/png": "[encoded data removed]"
          },
          "metadata": {
            "needs_background": "light"
          }
        }
      ]
    },
    {
      "cell_type": "markdown",
      "source": [
        "##¿Qué otros estadísticos de tendencia puede generar a partir de los datos?  ¿Para qué sirve generar estos tipos de estadísticos? \n",
        "se pueden generar los estadísticos de tendencia central como la media, la moda, y la mediana\n",
        "Son herramientas utilizadas para  medir estadísticas cuyo objetivo es resumir en un solo valor a un conjunto de valores,\n",
        "y de esta manera representar un centro en la cual se deben encontrar ubicados en conjunto los datos. \n",
        "Existe varias medidas de tendencia central, sin embargo, las más utilizadas son: media, mediana y moda, \n",
        "otras como las medidas de dispersión, por ejemplo. Que se encargan de medir el grado de dispersión que se produce entre los valores de una variable. \n",
        "#-------------------\n",
        "Explique para cada uno cuál es su función para este torneo\n",
        "media:Es el valor promedio de un conjunto de datos numéricos, se calcula como la suma del conjunto de valores, dividida entre el número total de valores, para lo cual tiene su fórmula. Se consideran todas las puntuaciones, dentro del torneo y conocer el promedio de puntuación\n",
        "mediana: Como dato estadístico de posición central, permite  que parte la distribución en dos, esta puede ser de manera creciente o decreciente,  lo que significa, que coloca la misma cantidad de valores en un lado y en el otro, en conslución permite saber el valor mayor o menor en la puntuación del torneo para saber cuál fue que participante queda en primera posición y quien en última posición\n",
        "moda:Es el valor que más se repite en una muestra estadística, en este caso para el torneo, en este caso con la moda se puede saber La moda el valor dentro del conjunto de datos que más se repite, el que tiene mayor frecuencia y así saber qué participantes tuvieron el mismo puntaje dentro del torneo.\n",
        "\n",
        "\n",
        "\n",
        "\n"
      ],
      "metadata": {
        "id": "EAiQhPvJv9C8"
      }
    },
    {
      "cell_type": "markdown",
      "source": [
        "#5. Calcula un estadístico que permita ver la dispersión de la variable; grafíquelo"
      ],
      "metadata": {
        "id": "xecZeY801E5o"
      }
    },
    {
      "cell_type": "code",
      "source": [
        "#5. Calcula un estadístico que permita ver la dispersión de la variable; grafíquelo = desviación estandar\n",
        "fig=plt.figure()\n",
        "ax =plt.axes()\n",
        "x= dataset['x'].values\n",
        "y=dataset['y'].values\n",
        "plt.plot(x,y, 'o', color='purple')"
      ],
      "metadata": {
        "colab": {
          "base_uri": "https://localhost:8080/",
          "height": 283
        },
        "id": "to4YcumEv3eV",
        "outputId": "4d0e6018-42e4-4e7a-8b48-04b5094771e0"
      },
      "execution_count": null,
      "outputs": [
        {
          "output_type": "execute_result",
          "data": {
            "text/plain": [
              "[<matplotlib.lines.Line2D at 0x7fcb9df58390>]"
            ]
          },
          "metadata": {},
          "execution_count": 121
        },
        {
          "output_type": "display_data",
          "data": {
            "text/plain": [
              "<Figure size 432x288 with 1 Axes>"
            ],
            "image/png": "[encoded data removed]"
          },
          "metadata": {
            "needs_background": "light"
          }
        }
      ]
    },
    {
      "cell_type": "code",
      "source": [
        "#como se presenta en la grafica inferior en la dispersión de los datos, todos los datos que se encuentran fuera de la caja azul, puede que sean datos outlier\n",
        "sns.boxplot(dataset['y'])"
      ],
      "metadata": {
        "colab": {
          "base_uri": "https://localhost:8080/",
          "height": 353
        },
        "id": "FClwzC8J0eiw",
        "outputId": "aaf25bed-a8b7-49bd-e8da-2d6342699e20"
      },
      "execution_count": null,
      "outputs": [
        {
          "output_type": "stream",
          "name": "stderr",
          "text": [
            "/usr/local/lib/python3.7/dist-packages/seaborn/_decorators.py:43: FutureWarning: Pass the following variable as a keyword arg: x. From version 0.12, the only valid positional argument will be `data`, and passing other arguments without an explicit keyword will result in an error or misinterpretation.\n",
            "  FutureWarning\n"
          ]
        },
        {
          "output_type": "execute_result",
          "data": {
            "text/plain": [
              "<matplotlib.axes._subplots.AxesSubplot at 0x7fcb9dbb8950>"
            ]
          },
          "metadata": {},
          "execution_count": 124
        },
        {
          "output_type": "display_data",
          "data": {
            "text/plain": [
              "<Figure size 432x288 with 1 Axes>"
            ],
            "image/png": "[encoded data removed]"
          },
          "metadata": {
            "needs_background": "light"
          }
        }
      ]
    },
    {
      "cell_type": "markdown",
      "source": [
        "#6.Dado el caso que quisiéramos sacar una media ponderada, ¿qué habría que hacer?\n"
      ],
      "metadata": {
        "id": "oML0Sayr2GQM"
      }
    },
    {
      "cell_type": "code",
      "source": [
        "#Para calcular la media ponderada hay que asignar un peso a los distintos valores que se van a tomar \n",
        "#para obtener dicha media. La suma de todos los valores por sus pesos se divide finalmente por la suma de todos los pesos y se obtiene la media ponderada.\n",
        "#a continuación se utiliza la librería numpy para calcular la media ponderada\n",
        "y=dataset['y'].values\n",
        "#arit=np.mean(y)\n",
        "#print('Media aritmética:',arit)\n",
        "wa=np.array(y)\n",
        "pondera=round(sum(wa),6)\n",
        "print('Media ponderada:',pondera)"
      ],
      "metadata": {
        "colab": {
          "base_uri": "https://localhost:8080/"
        },
        "id": "RTvw0sGG2IqW",
        "outputId": "15a19503-7153-4a60-dac8-c0f894680696"
      },
      "execution_count": null,
      "outputs": [
        {
          "output_type": "stream",
          "name": "stdout",
          "text": [
            "Media ponderada: 3821\n"
          ]
        }
      ]
    }
  ]
}